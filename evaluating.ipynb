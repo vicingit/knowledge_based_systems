{
 "cells": [
  {
   "cell_type": "code",
   "execution_count": 7,
   "metadata": {},
   "outputs": [],
   "source": [
    "# setup\n",
    "from mlwp import *\n",
    "diabetes = datasets.load_diabetes()\n",
    "%matplotlib inline"
   ]
  },
  {
   "cell_type": "code",
   "execution_count": 8,
   "metadata": {},
   "outputs": [
    {
     "data": {
      "text/html": [
       "<div>\n",
       "<style scoped>\n",
       "    .dataframe tbody tr th:only-of-type {\n",
       "        vertical-align: middle;\n",
       "    }\n",
       "\n",
       "    .dataframe tbody tr th {\n",
       "        vertical-align: top;\n",
       "    }\n",
       "\n",
       "    .dataframe thead th {\n",
       "        text-align: right;\n",
       "    }\n",
       "</style>\n",
       "<table border=\"1\" class=\"dataframe\">\n",
       "  <thead>\n",
       "    <tr style=\"text-align: right;\">\n",
       "      <th></th>\n",
       "      <th>0</th>\n",
       "      <th>1</th>\n",
       "      <th>2</th>\n",
       "      <th>3</th>\n",
       "      <th>4</th>\n",
       "      <th>5</th>\n",
       "      <th>6</th>\n",
       "      <th>7</th>\n",
       "      <th>8</th>\n",
       "      <th>9</th>\n",
       "    </tr>\n",
       "  </thead>\n",
       "  <tbody>\n",
       "    <tr>\n",
       "      <th>ftr</th>\n",
       "      <td>-1.5789</td>\n",
       "      <td>-6.8421</td>\n",
       "      <td>-3.6842</td>\n",
       "      <td>1.5789</td>\n",
       "      <td>-7.8947</td>\n",
       "      <td>3.6842</td>\n",
       "      <td>7.8947</td>\n",
       "      <td>4.7368</td>\n",
       "      <td>5.7895</td>\n",
       "      <td>-0.5263</td>\n",
       "    </tr>\n",
       "    <tr>\n",
       "      <th>tgt</th>\n",
       "      <td>2.3906</td>\n",
       "      <td>91.0234</td>\n",
       "      <td>22.3791</td>\n",
       "      <td>3.8658</td>\n",
       "      <td>122.5817</td>\n",
       "      <td>22.9962</td>\n",
       "      <td>121.7528</td>\n",
       "      <td>40.6026</td>\n",
       "      <td>62.7696</td>\n",
       "      <td>-1.6137</td>\n",
       "    </tr>\n",
       "  </tbody>\n",
       "</table>\n",
       "</div>"
      ],
      "text/latex": [
       "{\\centering\n",
       "\\begin{tabular}{lrrrrrrrrrr}\n",
       "\\toprule\n",
       "{} &                    0 &                    1 &                    2 &                    3 &                    4 &                    5 &                    6 &                    7 &                    8 &                    9 \\\\\n",
       "\\midrule\n",
       "ftr &              -1.5789 &              -6.8421 &              -3.6842 &               1.5789 &              -7.8947 &               3.6842 &               7.8947 &               4.7368 &               5.7895 &              -0.5263 \\\\\n",
       "tgt &               2.3906 &              91.0234 &              22.3791 &               3.8658 &             122.5817 &              22.9962 &             121.7528 &              40.6026 &              62.7696 &              -1.6137 \\\\\n",
       "\\bottomrule\n",
       "\\end{tabular}\n",
       "\n",
       "\\medskip}"
      ],
      "text/plain": [
       "                       0                    1                    2  \\\n",
       "ftr              -1.5789              -6.8421              -3.6842   \n",
       "tgt               2.3906              91.0234              22.3791   \n",
       "\n",
       "                       3                    4                    5  \\\n",
       "ftr               1.5789              -7.8947               3.6842   \n",
       "tgt               3.8658             122.5817              22.9962   \n",
       "\n",
       "                       6                    7                    8  \\\n",
       "ftr               7.8947               4.7368               5.7895   \n",
       "tgt             121.7528              40.6026              62.7696   \n",
       "\n",
       "                       9  \n",
       "ftr              -0.5263  \n",
       "tgt              -1.6137  "
      ]
     },
     "metadata": {},
     "output_type": "display_data"
    }
   ],
   "source": [
    "N = 20\n",
    "ftr = np.linspace(-10, 10, num=N)\n",
    "# ftr values\n",
    "tgt = 2*ftr**2 - 3 + np.random.uniform(-2, 2, N) # tgt = func(ftr)\n",
    "\n",
    "(train_ftr, test_ftr,\n",
    "train_tgt, test_tgt) = skms.train_test_split(ftr, tgt, test_size=N//2)\n",
    "\n",
    "display(pd.DataFrame({\"ftr\":train_ftr,\n",
    "\"tgt\":train_tgt}).T)"
   ]
  },
  {
   "cell_type": "markdown",
   "metadata": {},
   "source": [
    "seems y is 2.39 stuff.. \n",
    "Using calculator to calculate synthetic values\n",
    "tgt = \n",
    "y = 2x^2 - 3 + noise"
   ]
  },
  {
   "cell_type": "code",
   "execution_count": 9,
   "metadata": {},
   "outputs": [
    {
     "data": {
      "image/png": "[encoded data removed]",
      "text/plain": [
       "<Figure size 400x300 with 1 Axes>"
      ]
     },
     "metadata": {},
     "output_type": "display_data"
    }
   ],
   "source": [
    "plt.plot(train_ftr, train_tgt, 'bo')\n",
    "plt.plot(test_ftr,\n",
    "np.zeros_like(test_ftr), 'r+');"
   ]
  },
  {
   "cell_type": "code",
   "execution_count": 10,
   "metadata": {},
   "outputs": [
    {
     "data": {
      "text/plain": [
       "array([53.218 , 41.4552, 56.8374])"
      ]
     },
     "execution_count": 10,
     "metadata": {},
     "output_type": "execute_result"
    }
   ],
   "source": [
    "# note: sklearn *really* wants 2D inputs (a table)\n",
    "# so we use rehape here.\n",
    "sk_model = linear_model.LinearRegression()\n",
    "sk_model.fit(train_ftr.reshape(-1, 1), train_tgt)\n",
    "sk_preds = sk_model.predict(test_ftr.reshape(-1, 1))\n",
    "sk_preds[:3]"
   ]
  },
  {
   "cell_type": "code",
   "execution_count": 11,
   "metadata": {},
   "outputs": [
    {
     "name": "stdout",
     "output_type": "stream",
     "text": [
      "[53.218  41.4552 56.8374]\n"
     ]
    }
   ],
   "source": [
    "# fit-predict-evaluate a 1D polynomial (a line)\n",
    "model_one = np.poly1d(np.polyfit(train_ftr, train_tgt, 1))\n",
    "preds_one = model_one(test_ftr)\n",
    "print(preds_one[:3])"
   ]
  },
  {
   "cell_type": "code",
   "execution_count": 12,
   "metadata": {},
   "outputs": [
    {
     "name": "stdout",
     "output_type": "stream",
     "text": [
      "all close? True\n",
      "RMSE: 86.69151817350722\n"
     ]
    }
   ],
   "source": [
    "# the predictions come back the same\n",
    "print(\"all close?\", np.allclose(sk_preds, preds_one))\n",
    "# and we can still use sklearn to evaluate it\n",
    "mse = metrics.mean_squared_error\n",
    "print(\"RMSE:\", np.sqrt(mse(test_tgt, preds_one)))"
   ]
  },
  {
   "cell_type": "code",
   "execution_count": 13,
   "metadata": {},
   "outputs": [
    {
     "name": "stdout",
     "output_type": "stream",
     "text": [
      "RMSE: 1.276599218888114\n"
     ]
    }
   ],
   "source": [
    "# fit-predict-evaluate a 2D polynomial (a parabola)\n",
    "model_two = np.poly1d(np.polyfit(train_ftr, train_tgt, 2))\n",
    "preds_two = model_two(test_ftr)\n",
    "print(\"RMSE:\", np.sqrt(mse(test_tgt, preds_two)))"
   ]
  },
  {
   "cell_type": "code",
   "execution_count": 14,
   "metadata": {},
   "outputs": [
    {
     "name": "stdout",
     "output_type": "stream",
     "text": [
      "RMSE: 317.36344242351373\n"
     ]
    }
   ],
   "source": [
    "model_three = np.poly1d(np.polyfit(train_ftr, train_tgt, 9))\n",
    "preds_three = model_three(test_ftr)\n",
    "print(\"RMSE:\", np.sqrt(mse(test_tgt, preds_three)))"
   ]
  },
  {
   "cell_type": "code",
   "execution_count": 15,
   "metadata": {},
   "outputs": [],
   "source": [
    "def training_loss(loss, model, training_data):\n",
    "\n",
    "    ' total training_loss on train_data with model under loss'\n",
    "    return sum(loss(model.predict(x.reshape(1, -1)), y) \n",
    "        for x, y in training_data)\n",
    "def squared_error(prediction, actual):\n",
    "    ' squared error on a single example '\n",
    "    return (prediction - actual)**2"
   ]
  },
  {
   "cell_type": "code",
   "execution_count": 16,
   "metadata": {},
   "outputs": [
    {
     "name": "stdout",
     "output_type": "stream",
     "text": [
      "[863792.3333]\n"
     ]
    }
   ],
   "source": [
    "knn = neighbors.KNeighborsRegressor(n_neighbors=3)\n",
    "fit = knn.fit(diabetes.data, diabetes.target)\n",
    "training_data = zip(diabetes.data, diabetes.target)\n",
    "my_training_loss = training_loss(squared_error,knn,training_data)\n",
    "print(my_training_loss)"
   ]
  },
  {
   "cell_type": "code",
   "execution_count": 17,
   "metadata": {},
   "outputs": [
    {
     "name": "stdout",
     "output_type": "stream",
     "text": [
      "863792.3333333333\n"
     ]
    }
   ],
   "source": [
    "mse = metrics.mean_squared_error(diabetes.target,\n",
    "knn.predict(diabetes.data))\n",
    "print(mse*len(diabetes.data))"
   ]
  },
  {
   "cell_type": "code",
   "execution_count": 18,
   "metadata": {},
   "outputs": [
    {
     "data": {
      "text/plain": [
       "array([-3490.4862, -2935.9002, -4138.1652, -3473.8141, -3588.6991,\n",
       "       -3767.6586, -3918.5184, -2188.8107, -3803.7668, -2903.5782])"
      ]
     },
     "execution_count": 18,
     "metadata": {},
     "output_type": "execute_result"
    }
   ],
   "source": [
    "model = neighbors.KNeighborsRegressor(10)\n",
    "skms.cross_val_score(model,\n",
    "                        diabetes.data,\n",
    "                        diabetes.target,\n",
    "                        cv=10,\n",
    "                        scoring='neg_mean_squared_error')\n",
    "# notes:\n",
    "# defaults for cross_val_score are\n",
    "# cv=3 fold, no shuffle, stratified if classifier\n",
    "# model.score by default (regressors: r2, classifiers: accuracy)"
   ]
  },
  {
   "cell_type": "code",
   "execution_count": 19,
   "metadata": {},
   "outputs": [
    {
     "data": {
      "text/plain": [
       "array([0.9667, 1.    , 1.    , 0.9333, 1.    ])"
      ]
     },
     "execution_count": 19,
     "metadata": {},
     "output_type": "execute_result"
    }
   ],
   "source": [
    "iris = datasets.load_iris()\n",
    "model = neighbors.KNeighborsClassifier(10)\n",
    "skms.cross_val_score(model, iris.data, iris.target, cv=5)"
   ]
  },
  {
   "cell_type": "code",
   "execution_count": 20,
   "metadata": {},
   "outputs": [
    {
     "name": "stdout",
     "output_type": "stream",
     "text": [
      "[['dog' 'dog' 'dog']\n",
      " ['cat' 'dog' 'cat']]\n"
     ]
    }
   ],
   "source": [
    "# not stratified\n",
    "pet = np.array(['cat', 'dog', 'cat',\n",
    "'dog', 'dog', 'dog'])\n",
    "list_folds = list(skms.KFold(2).split(pet))\n",
    "training_idxs = np.array(list_folds)[:, 0, :]\n",
    "print(pet[training_idxs])"
   ]
  },
  {
   "cell_type": "code",
   "execution_count": 21,
   "metadata": {},
   "outputs": [],
   "source": [
    "# stratified\n",
    "# note: typically this is behind the scenes\n",
    "# making StratifiedKFold produce readable output\n",
    "# requires some trickery.feel free to ignore.\n",
    "pet = np.array(['cat', 'dog', 'cat', 'dog', 'dog', 'dog'])"
   ]
  },
  {
   "cell_type": "code",
   "execution_count": 22,
   "metadata": {},
   "outputs": [
    {
     "name": "stdout",
     "output_type": "stream",
     "text": [
      "[['cat' 'dog' 'dog']\n",
      " ['cat' 'dog' 'dog']]\n"
     ]
    }
   ],
   "source": [
    "idxs = np.array(list(skms.StratifiedKFold(2)\n",
    ".split(np.ones_like(pet), pet)))\n",
    "training_idxs = idxs[:, 0, :]\n",
    "print(pet[training_idxs])"
   ]
  },
  {
   "cell_type": "code",
   "execution_count": 23,
   "metadata": {},
   "outputs": [
    {
     "data": {
      "text/plain": [
       "array([1.    , 1.    , 0.8667, 0.9667, 0.7667])"
      ]
     },
     "execution_count": 23,
     "metadata": {},
     "output_type": "execute_result"
    }
   ],
   "source": [
    "# running nonstratified CV\n",
    "iris = datasets.load_iris()\n",
    "model = neighbors.KNeighborsClassifier(10)\n",
    "non_strat_kf = skms.KFold(5)\n",
    "skms.cross_val_score(model,iris.data,iris.target,cv=non_strat_kf)"
   ]
  },
  {
   "cell_type": "code",
   "execution_count": 24,
   "metadata": {},
   "outputs": [
    {
     "data": {
      "text/html": [
       "<div>\n",
       "<style scoped>\n",
       "    .dataframe tbody tr th:only-of-type {\n",
       "        vertical-align: middle;\n",
       "    }\n",
       "\n",
       "    .dataframe tbody tr th {\n",
       "        vertical-align: top;\n",
       "    }\n",
       "\n",
       "    .dataframe thead th {\n",
       "        text-align: right;\n",
       "    }\n",
       "</style>\n",
       "<table border=\"1\" class=\"dataframe\">\n",
       "  <thead>\n",
       "    <tr style=\"text-align: right;\">\n",
       "      <th>Repeat</th>\n",
       "      <th>0</th>\n",
       "      <th>1</th>\n",
       "      <th>2</th>\n",
       "      <th>3</th>\n",
       "      <th>4</th>\n",
       "      <th>5</th>\n",
       "      <th>6</th>\n",
       "      <th>7</th>\n",
       "      <th>8</th>\n",
       "      <th>9</th>\n",
       "    </tr>\n",
       "  </thead>\n",
       "  <tbody>\n",
       "    <tr>\n",
       "      <th>RMSE</th>\n",
       "      <td>49.0031</td>\n",
       "      <td>50.1913</td>\n",
       "      <td>51.9735</td>\n",
       "      <td>52.0722</td>\n",
       "      <td>53.2003</td>\n",
       "      <td>55.7007</td>\n",
       "      <td>56.2542</td>\n",
       "      <td>57.4919</td>\n",
       "      <td>58.6383</td>\n",
       "      <td>58.6942</td>\n",
       "    </tr>\n",
       "  </tbody>\n",
       "</table>\n",
       "</div>"
      ],
      "text/latex": [
       "{\\centering\n",
       "\\begin{tabular}{lrrrrrrrrrr}\n",
       "\\toprule\n",
       "Repeat &                    0 &                    1 &                    2 &                    3 &                    4 &                    5 &                    6 &                    7 &                    8 &                    9 \\\\\n",
       "\\midrule\n",
       "RMSE &              49.0031 &              50.1913 &              51.9735 &              52.0722 &              53.2003 &              55.7007 &              56.2542 &              57.4919 &              58.6383 &              58.6942 \\\\\n",
       "\\bottomrule\n",
       "\\end{tabular}\n",
       "\n",
       "\\medskip}"
      ],
      "text/plain": [
       "Repeat                    0                    1                    2  \\\n",
       "RMSE                49.0031              50.1913              51.9735   \n",
       "\n",
       "Repeat                    3                    4                    5  \\\n",
       "RMSE                52.0722              53.2003              55.7007   \n",
       "\n",
       "Repeat                    6                    7                    8  \\\n",
       "RMSE                56.2542              57.4919              58.6383   \n",
       "\n",
       "Repeat                    9  \n",
       "RMSE                58.6942  "
      ]
     },
     "metadata": {},
     "output_type": "display_data"
    }
   ],
   "source": [
    "# as a reminder, these are some of the imports\n",
    "# that are hidden behind: from mlwpy import *\n",
    "# from sklearn import (datasets, neighbors,\n",
    "#model_selection as skms,\n",
    "#linear_model, metrics)\n",
    "# see Appendix A for details\n",
    "\n",
    "linreg = linear_model.LinearRegression()\n",
    "diabetes = datasets.load_diabetes()\n",
    "\n",
    "scores = []\n",
    "for r in range(10):\n",
    "    tts = skms.train_test_split(diabetes.data,diabetes.target,test_size=.25)\n",
    "\n",
    "    (diabetes_train_ftrs, diabetes_test_ftrs,diabetes_train_tgt,diabetes_test_tgt) = tts\n",
    "\n",
    "    fit = linreg.fit(diabetes_train_ftrs, diabetes_train_tgt)\n",
    "    preds = fit.predict(diabetes_test_ftrs)\n",
    "\n",
    "    score = metrics.mean_squared_error(diabetes_test_tgt, preds)\n",
    "    scores.append(score)\n",
    "scores = pd.Series(np.sqrt(sorted(scores)))\n",
    "df = pd.DataFrame({'RMSE':scores})\n",
    "df.index.name = 'Repeat'\n",
    "display(df.T)"
   ]
  },
  {
   "cell_type": "code",
   "execution_count": 25,
   "metadata": {},
   "outputs": [
    {
     "data": {
      "image/png": "[encoded data removed]",
      "text/plain": [
       "<Figure size 400x300 with 1 Axes>"
      ]
     },
     "metadata": {},
     "output_type": "display_data"
    }
   ],
   "source": [
    "ax = plt.figure(figsize=(4, 3)).gca()\n",
    "sns.swarmplot(y='RMSE', data=df, ax=ax)\n",
    "ax.set_xlabel('Over Repeated\\nTrain-Test Splits');"
   ]
  },
  {
   "cell_type": "code",
   "execution_count": 26,
   "metadata": {},
   "outputs": [
    {
     "data": {
      "text/html": [
       "<div>\n",
       "<style scoped>\n",
       "    .dataframe tbody tr th:only-of-type {\n",
       "        vertical-align: middle;\n",
       "    }\n",
       "\n",
       "    .dataframe tbody tr th {\n",
       "        vertical-align: top;\n",
       "    }\n",
       "\n",
       "    .dataframe thead th {\n",
       "        text-align: right;\n",
       "    }\n",
       "</style>\n",
       "<table border=\"1\" class=\"dataframe\">\n",
       "  <thead>\n",
       "    <tr style=\"text-align: right;\">\n",
       "      <th></th>\n",
       "      <th>count</th>\n",
       "      <th>mean</th>\n",
       "      <th>std</th>\n",
       "      <th>min</th>\n",
       "      <th>25%</th>\n",
       "      <th>50%</th>\n",
       "      <th>75%</th>\n",
       "      <th>max</th>\n",
       "    </tr>\n",
       "  </thead>\n",
       "  <tbody>\n",
       "    <tr>\n",
       "      <th>RMSE</th>\n",
       "      <td>10.0000</td>\n",
       "      <td>54.3220</td>\n",
       "      <td>3.5059</td>\n",
       "      <td>49.0031</td>\n",
       "      <td>51.9982</td>\n",
       "      <td>54.4505</td>\n",
       "      <td>57.1825</td>\n",
       "      <td>58.6942</td>\n",
       "    </tr>\n",
       "  </tbody>\n",
       "</table>\n",
       "</div>"
      ],
      "text/latex": [
       "{\\centering\n",
       "\\begin{tabular}{lrrrrrrrr}\n",
       "\\toprule\n",
       "{} &                count &                 mean &                  std &                  min &                  25\\% &                  50\\% &                  75\\% &                  max \\\\\n",
       "\\midrule\n",
       "RMSE &              10.0000 &              54.3220 &               3.5059 &              49.0031 &              51.9982 &              54.4505 &              57.1825 &              58.6942 \\\\\n",
       "\\bottomrule\n",
       "\\end{tabular}\n",
       "\n",
       "\\medskip}"
      ],
      "text/plain": [
       "                    count                 mean                  std  \\\n",
       "RMSE              10.0000              54.3220               3.5059   \n",
       "\n",
       "                      min                  25%                  50%  \\\n",
       "RMSE              49.0031              51.9982              54.4505   \n",
       "\n",
       "                      75%                  max  \n",
       "RMSE              57.1825              58.6942  "
      ]
     },
     "metadata": {},
     "output_type": "display_data"
    }
   ],
   "source": [
    "display(df.describe().T)"
   ]
  },
  {
   "cell_type": "code",
   "execution_count": 27,
   "metadata": {},
   "outputs": [
    {
     "name": "stdout",
     "output_type": "stream",
     "text": [
      "3052.548205801788\n"
     ]
    }
   ],
   "source": [
    "def tts_fit_score(model, data, msr, test_size=.25):\n",
    "    ' apply a train-test split to fit model on data and eval with MSR '\n",
    "    tts = skms.train_test_split(data.data,\n",
    "                                  data.target,\n",
    "                                     test_size=test_size)\n",
    "    (train_ftrs, test_ftrs, train_tgt, test_tgt) = tts\n",
    "    fit  = linreg.fit(train_ftrs, train_tgt)\n",
    "    preds = fit.predict(test_ftrs)\n",
    "    score = msr(test_tgt, preds)\n",
    "    return score\n",
    "linreg= linear_model.LinearRegression()\n",
    "diabetes = datasets.load_diabetes()\n",
    "scores = [tts_fit_score(linreg, diabetes,\n",
    "metrics.mean_squared_error) for i in range(10)]\n",
    "print(np.mean(scores))"
   ]
  },
  {
   "cell_type": "code",
   "execution_count": 28,
   "metadata": {},
   "outputs": [
    {
     "data": {
      "text/html": [
       "<div>\n",
       "<style scoped>\n",
       "    .dataframe tbody tr th:only-of-type {\n",
       "        vertical-align: middle;\n",
       "    }\n",
       "\n",
       "    .dataframe tbody tr th {\n",
       "        vertical-align: top;\n",
       "    }\n",
       "\n",
       "    .dataframe thead th {\n",
       "        text-align: right;\n",
       "    }\n",
       "</style>\n",
       "<table border=\"1\" class=\"dataframe\">\n",
       "  <thead>\n",
       "    <tr style=\"text-align: right;\">\n",
       "      <th></th>\n",
       "      <th>count</th>\n",
       "      <th>mean</th>\n",
       "      <th>std</th>\n",
       "      <th>min</th>\n",
       "      <th>25%</th>\n",
       "      <th>50%</th>\n",
       "      <th>75%</th>\n",
       "      <th>max</th>\n",
       "    </tr>\n",
       "  </thead>\n",
       "  <tbody>\n",
       "    <tr>\n",
       "      <th>RMSE</th>\n",
       "      <td>10.0000</td>\n",
       "      <td>55.4388</td>\n",
       "      <td>3.5870</td>\n",
       "      <td>50.1900</td>\n",
       "      <td>52.9661</td>\n",
       "      <td>55.3965</td>\n",
       "      <td>58.3912</td>\n",
       "      <td>60.5431</td>\n",
       "    </tr>\n",
       "  </tbody>\n",
       "</table>\n",
       "</div>"
      ],
      "text/latex": [
       "{\\centering\n",
       "\\begin{tabular}{lrrrrrrrr}\n",
       "\\toprule\n",
       "{} &                count &                 mean &                  std &                  min &                  25\\% &                  50\\% &                  75\\% &                  max \\\\\n",
       "\\midrule\n",
       "RMSE &              10.0000 &              55.4388 &               3.5870 &              50.1900 &              52.9661 &              55.3965 &              58.3912 &              60.5431 \\\\\n",
       "\\bottomrule\n",
       "\\end{tabular}\n",
       "\n",
       "\\medskip}"
      ],
      "text/plain": [
       "                    count                 mean                  std  \\\n",
       "RMSE              10.0000              55.4388               3.5870   \n",
       "\n",
       "                      min                  25%                  50%  \\\n",
       "RMSE              50.1900              52.9661              55.3965   \n",
       "\n",
       "                      75%                  max  \n",
       "RMSE              58.3912              60.5431  "
      ]
     },
     "metadata": {},
     "output_type": "display_data"
    },
    {
     "data": {
      "image/png": "[encoded data removed]",
      "text/plain": [
       "<Figure size 400x300 with 1 Axes>"
      ]
     },
     "metadata": {},
     "output_type": "display_data"
    }
   ],
   "source": [
    "linreg = linear_model.LinearRegression()\n",
    "diabetes = datasets.load_diabetes()\n",
    "\n",
    "# nondefault cv= argument\n",
    "ss = skms.ShuffleSplit(test_size=.25) # default, 10 splits\n",
    "scores = skms.cross_val_score(linreg,diabetes.data, diabetes.target,cv=ss,scoring='neg_mean_squared_error')\n",
    "\n",
    "scores = pd.Series(np.sqrt(-scores))\n",
    "df = pd.DataFrame({'RMSE':scores})\n",
    "df.index.name = 'Repeat'\n",
    "\n",
    "display(df.describe().T)\n",
    "ax = sns.swarmplot(y='RMSE', data=df)\n",
    "ax.set_xlabel('Over Repeated\\nTrain-Test Splits');"
   ]
  }
 ],
 "metadata": {
  "kernelspec": {
   "display_name": "env",
   "language": "python",
   "name": "python3"
  },
  "language_info": {
   "codemirror_mode": {
    "name": "ipython",
    "version": 3
   },
   "file_extension": ".py",
   "mimetype": "text/x-python",
   "name": "python",
   "nbconvert_exporter": "python",
   "pygments_lexer": "ipython3",
   "version": "3.11.4"
  },
  "orig_nbformat": 4
 },
 "nbformat": 4,
 "nbformat_minor": 2
}
