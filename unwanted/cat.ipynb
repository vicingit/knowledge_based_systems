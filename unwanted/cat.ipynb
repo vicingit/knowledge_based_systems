{
 "cells": [
  {
   "cell_type": "code",
   "execution_count": 3,
   "metadata": {},
   "outputs": [
    {
     "data": {
      "text/html": [
       "<div>\n",
       "<style scoped>\n",
       "    .dataframe tbody tr th:only-of-type {\n",
       "        vertical-align: middle;\n",
       "    }\n",
       "\n",
       "    .dataframe tbody tr th {\n",
       "        vertical-align: top;\n",
       "    }\n",
       "\n",
       "    .dataframe thead th {\n",
       "        text-align: right;\n",
       "    }\n",
       "</style>\n",
       "<table border=\"1\" class=\"dataframe\">\n",
       "  <thead>\n",
       "    <tr style=\"text-align: right;\">\n",
       "      <th></th>\n",
       "      <th>Date</th>\n",
       "      <th>Code</th>\n",
       "      <th>Name</th>\n",
       "      <th>12m Low</th>\n",
       "      <th>12m High</th>\n",
       "      <th>Day Low</th>\n",
       "      <th>Day High</th>\n",
       "      <th>Day Price</th>\n",
       "      <th>Previous</th>\n",
       "      <th>Change</th>\n",
       "      <th>Change%</th>\n",
       "      <th>Volume</th>\n",
       "      <th>Adjusted Price</th>\n",
       "    </tr>\n",
       "  </thead>\n",
       "  <tbody>\n",
       "    <tr>\n",
       "      <th>0</th>\n",
       "      <td>3-Jan-22</td>\n",
       "      <td>EGAD</td>\n",
       "      <td>Eaagads Ltd</td>\n",
       "      <td>10</td>\n",
       "      <td>15</td>\n",
       "      <td>13.5</td>\n",
       "      <td>13.8</td>\n",
       "      <td>13.5</td>\n",
       "      <td>13.5</td>\n",
       "      <td>-</td>\n",
       "      <td>-</td>\n",
       "      <td>4,000</td>\n",
       "      <td>-</td>\n",
       "    </tr>\n",
       "    <tr>\n",
       "      <th>1</th>\n",
       "      <td>3-Jan-22</td>\n",
       "      <td>KUKZ</td>\n",
       "      <td>Kakuzi Plc</td>\n",
       "      <td>355</td>\n",
       "      <td>427</td>\n",
       "      <td>385</td>\n",
       "      <td>385</td>\n",
       "      <td>385</td>\n",
       "      <td>385</td>\n",
       "      <td>-</td>\n",
       "      <td>-</td>\n",
       "      <td>-</td>\n",
       "      <td>-</td>\n",
       "    </tr>\n",
       "    <tr>\n",
       "      <th>2</th>\n",
       "      <td>3-Jan-22</td>\n",
       "      <td>KAPC</td>\n",
       "      <td>Kapchorua Tea Kenya Plc</td>\n",
       "      <td>80</td>\n",
       "      <td>101</td>\n",
       "      <td>99.5</td>\n",
       "      <td>99.5</td>\n",
       "      <td>99.5</td>\n",
       "      <td>95.5</td>\n",
       "      <td>4</td>\n",
       "      <td>4.19%</td>\n",
       "      <td>100</td>\n",
       "      <td>-</td>\n",
       "    </tr>\n",
       "    <tr>\n",
       "      <th>3</th>\n",
       "      <td>3-Jan-22</td>\n",
       "      <td>LIMT</td>\n",
       "      <td>Limuru Tea Plc</td>\n",
       "      <td>260</td>\n",
       "      <td>360</td>\n",
       "      <td>320</td>\n",
       "      <td>320</td>\n",
       "      <td>320</td>\n",
       "      <td>320</td>\n",
       "      <td>-</td>\n",
       "      <td>-</td>\n",
       "      <td>-</td>\n",
       "      <td>-</td>\n",
       "    </tr>\n",
       "    <tr>\n",
       "      <th>4</th>\n",
       "      <td>3-Jan-22</td>\n",
       "      <td>SASN</td>\n",
       "      <td>Sasini Plc</td>\n",
       "      <td>16.75</td>\n",
       "      <td>22.6</td>\n",
       "      <td>18.7</td>\n",
       "      <td>18.7</td>\n",
       "      <td>18.7</td>\n",
       "      <td>18.7</td>\n",
       "      <td>-</td>\n",
       "      <td>-</td>\n",
       "      <td>-</td>\n",
       "      <td>-</td>\n",
       "    </tr>\n",
       "    <tr>\n",
       "      <th>...</th>\n",
       "      <td>...</td>\n",
       "      <td>...</td>\n",
       "      <td>...</td>\n",
       "      <td>...</td>\n",
       "      <td>...</td>\n",
       "      <td>...</td>\n",
       "      <td>...</td>\n",
       "      <td>...</td>\n",
       "      <td>...</td>\n",
       "      <td>...</td>\n",
       "      <td>...</td>\n",
       "      <td>...</td>\n",
       "      <td>...</td>\n",
       "    </tr>\n",
       "    <tr>\n",
       "      <th>6727</th>\n",
       "      <td>31-May-22</td>\n",
       "      <td>MSC</td>\n",
       "      <td>Mumias Sugar Company Ltd</td>\n",
       "      <td>0.27</td>\n",
       "      <td>0.27</td>\n",
       "      <td>0.27</td>\n",
       "      <td>0.27</td>\n",
       "      <td>0.27</td>\n",
       "      <td>0.27</td>\n",
       "      <td>-</td>\n",
       "      <td>-</td>\n",
       "      <td>-</td>\n",
       "      <td>-</td>\n",
       "    </tr>\n",
       "    <tr>\n",
       "      <th>6728</th>\n",
       "      <td>31-May-22</td>\n",
       "      <td>UNGA</td>\n",
       "      <td>Unga Group Ltd</td>\n",
       "      <td>26.1</td>\n",
       "      <td>36.4</td>\n",
       "      <td>29</td>\n",
       "      <td>29</td>\n",
       "      <td>29</td>\n",
       "      <td>30</td>\n",
       "      <td>-1</td>\n",
       "      <td>3.33%</td>\n",
       "      <td>2,100</td>\n",
       "      <td>-</td>\n",
       "    </tr>\n",
       "    <tr>\n",
       "      <th>6729</th>\n",
       "      <td>31-May-22</td>\n",
       "      <td>SCOM</td>\n",
       "      <td>Safaricom Plc</td>\n",
       "      <td>25.5</td>\n",
       "      <td>45.25</td>\n",
       "      <td>25.95</td>\n",
       "      <td>26.45</td>\n",
       "      <td>26</td>\n",
       "      <td>26.25</td>\n",
       "      <td>-0.25</td>\n",
       "      <td>0.95%</td>\n",
       "      <td>20,079,900</td>\n",
       "      <td>-</td>\n",
       "    </tr>\n",
       "    <tr>\n",
       "      <th>6730</th>\n",
       "      <td>31-May-22</td>\n",
       "      <td>FAHR</td>\n",
       "      <td>Stanlib Fahari Income-REIT</td>\n",
       "      <td>5</td>\n",
       "      <td>7.48</td>\n",
       "      <td>5.5</td>\n",
       "      <td>5.6</td>\n",
       "      <td>5.56</td>\n",
       "      <td>5.58</td>\n",
       "      <td>-0.02</td>\n",
       "      <td>0.36%</td>\n",
       "      <td>11,700</td>\n",
       "      <td>-</td>\n",
       "    </tr>\n",
       "    <tr>\n",
       "      <th>6731</th>\n",
       "      <td>31-May-22</td>\n",
       "      <td>GLD</td>\n",
       "      <td>ABSA NewGold ETF</td>\n",
       "      <td>1,780.00</td>\n",
       "      <td>2,135.00</td>\n",
       "      <td>2,135.00</td>\n",
       "      <td>2,135.00</td>\n",
       "      <td>2,135.00</td>\n",
       "      <td>2,135.00</td>\n",
       "      <td>-</td>\n",
       "      <td>-</td>\n",
       "      <td>-</td>\n",
       "      <td>-</td>\n",
       "    </tr>\n",
       "  </tbody>\n",
       "</table>\n",
       "<p>6732 rows × 13 columns</p>\n",
       "</div>"
      ],
      "text/plain": [
       "           Date  Code                        Name   12m Low  12m High  \\\n",
       "0      3-Jan-22  EGAD                 Eaagads Ltd        10        15   \n",
       "1      3-Jan-22  KUKZ                  Kakuzi Plc       355       427   \n",
       "2      3-Jan-22  KAPC     Kapchorua Tea Kenya Plc        80       101   \n",
       "3      3-Jan-22  LIMT              Limuru Tea Plc       260       360   \n",
       "4      3-Jan-22  SASN                  Sasini Plc     16.75      22.6   \n",
       "...         ...   ...                         ...       ...       ...   \n",
       "6727  31-May-22   MSC    Mumias Sugar Company Ltd      0.27      0.27   \n",
       "6728  31-May-22  UNGA              Unga Group Ltd      26.1      36.4   \n",
       "6729  31-May-22  SCOM               Safaricom Plc      25.5     45.25   \n",
       "6730  31-May-22  FAHR  Stanlib Fahari Income-REIT         5      7.48   \n",
       "6731  31-May-22   GLD            ABSA NewGold ETF  1,780.00  2,135.00   \n",
       "\n",
       "       Day Low  Day High Day Price  Previous Change Change%      Volume  \\\n",
       "0         13.5      13.8      13.5      13.5      -       -       4,000   \n",
       "1          385       385       385       385      -       -           -   \n",
       "2         99.5      99.5      99.5      95.5      4   4.19%         100   \n",
       "3          320       320       320       320      -       -           -   \n",
       "4         18.7      18.7      18.7      18.7      -       -           -   \n",
       "...        ...       ...       ...       ...    ...     ...         ...   \n",
       "6727      0.27      0.27      0.27      0.27      -       -           -   \n",
       "6728        29        29        29        30     -1   3.33%       2,100   \n",
       "6729     25.95     26.45        26     26.25  -0.25   0.95%  20,079,900   \n",
       "6730       5.5       5.6      5.56      5.58  -0.02   0.36%      11,700   \n",
       "6731  2,135.00  2,135.00  2,135.00  2,135.00      -       -           -   \n",
       "\n",
       "     Adjusted Price  \n",
       "0                 -  \n",
       "1                 -  \n",
       "2                 -  \n",
       "3                 -  \n",
       "4                 -  \n",
       "...             ...  \n",
       "6727              -  \n",
       "6728              -  \n",
       "6729              -  \n",
       "6730              -  \n",
       "6731              -  \n",
       "\n",
       "[6732 rows x 13 columns]"
      ]
     },
     "execution_count": 3,
     "metadata": {},
     "output_type": "execute_result"
    }
   ],
   "source": [
    "#import necessary libraries\n",
    "import math\n",
    "import numpy as np\n",
    "import pandas as pd\n",
    "from sklearn.preprocessing import MinMaxScaler\n",
    "import matplotlib.pyplot as plt\n",
    "\n",
    "\n",
    "data = pd.read_csv('nse.csv')\n",
    "#display\n",
    "data"
   ]
  },
  {
   "cell_type": "code",
   "execution_count": 4,
   "metadata": {},
   "outputs": [
    {
     "name": "stdout",
     "output_type": "stream",
     "text": [
      "<class 'pandas.core.frame.DataFrame'>\n",
      "RangeIndex: 6732 entries, 0 to 6731\n",
      "Data columns (total 13 columns):\n",
      " #   Column          Non-Null Count  Dtype \n",
      "---  ------          --------------  ----- \n",
      " 0   Date            6732 non-null   object\n",
      " 1   Code            6732 non-null   object\n",
      " 2   Name            6732 non-null   object\n",
      " 3   12m Low         6732 non-null   object\n",
      " 4   12m High        6732 non-null   object\n",
      " 5   Day Low         6732 non-null   object\n",
      " 6   Day High        6732 non-null   object\n",
      " 7   Day Price       6732 non-null   object\n",
      " 8   Previous        6732 non-null   object\n",
      " 9   Change          6732 non-null   object\n",
      " 10  Change%         6732 non-null   object\n",
      " 11  Volume          6732 non-null   object\n",
      " 12  Adjusted Price  6732 non-null   object\n",
      "dtypes: object(13)\n",
      "memory usage: 683.8+ KB\n",
      "None\n"
     ]
    },
    {
     "data": {
      "text/plain": [
       "(6732, 13)"
      ]
     },
     "execution_count": 4,
     "metadata": {},
     "output_type": "execute_result"
    }
   ],
   "source": [
    "print(data.info())\n",
    "data.shape"
   ]
  },
  {
   "cell_type": "code",
   "execution_count": 6,
   "metadata": {},
   "outputs": [],
   "source": [
    "#cleaning columns first before training\n",
    "columns_to_clean = ['12m Low', '12m High', 'Day Low', 'Day High', 'Previous', 'Change']\n",
    "\n",
    "for column in columns_to_clean:\n",
    "    if data[column].dtype == 'O':\n",
    "        data[column] = data[column].replace('-', np.nan)\n",
    "        data[column] = data[column].str.replace(',', '').astype(float)\n"
   ]
  },
  {
   "cell_type": "code",
   "execution_count": 7,
   "metadata": {},
   "outputs": [],
   "source": [
    "data['Volume'] = data['Volume'].replace('-',np.nan)\n",
    "data['Volume'] = data['Volume'].replace(',', '')\n"
   ]
  },
  {
   "cell_type": "code",
   "execution_count": 8,
   "metadata": {},
   "outputs": [],
   "source": [
    "data['Change%'] = data['Change%'].replace('-',np.nan)\n",
    "data['Change%'] = data['Change%'].str.replace(',','%', '').astype(float)"
   ]
  },
  {
   "cell_type": "code",
   "execution_count": 9,
   "metadata": {},
   "outputs": [],
   "source": [
    "#save the now cleaned stock data in a new file\n",
    "data.to_csv(\"cleaned_stock_data.csv\", index=False)"
   ]
  },
  {
   "cell_type": "markdown",
   "metadata": {},
   "source": [
    "CLEANED DATA"
   ]
  },
  {
   "cell_type": "code",
   "execution_count": 10,
   "metadata": {},
   "outputs": [
    {
     "data": {
      "text/html": [
       "<div>\n",
       "<style scoped>\n",
       "    .dataframe tbody tr th:only-of-type {\n",
       "        vertical-align: middle;\n",
       "    }\n",
       "\n",
       "    .dataframe tbody tr th {\n",
       "        vertical-align: top;\n",
       "    }\n",
       "\n",
       "    .dataframe thead th {\n",
       "        text-align: right;\n",
       "    }\n",
       "</style>\n",
       "<table border=\"1\" class=\"dataframe\">\n",
       "  <thead>\n",
       "    <tr style=\"text-align: right;\">\n",
       "      <th></th>\n",
       "      <th>Date</th>\n",
       "      <th>Code</th>\n",
       "      <th>Name</th>\n",
       "      <th>12m Low</th>\n",
       "      <th>12m High</th>\n",
       "      <th>Day Low</th>\n",
       "      <th>Day High</th>\n",
       "      <th>Day Price</th>\n",
       "      <th>Previous</th>\n",
       "      <th>Change</th>\n",
       "      <th>Change%</th>\n",
       "      <th>Volume</th>\n",
       "      <th>Adjusted Price</th>\n",
       "    </tr>\n",
       "  </thead>\n",
       "  <tbody>\n",
       "    <tr>\n",
       "      <th>0</th>\n",
       "      <td>3-Jan-22</td>\n",
       "      <td>EGAD</td>\n",
       "      <td>Eaagads Ltd</td>\n",
       "      <td>10.00</td>\n",
       "      <td>15.00</td>\n",
       "      <td>13.50</td>\n",
       "      <td>13.80</td>\n",
       "      <td>13.5</td>\n",
       "      <td>13.50</td>\n",
       "      <td>NaN</td>\n",
       "      <td>NaN</td>\n",
       "      <td>4,000</td>\n",
       "      <td>-</td>\n",
       "    </tr>\n",
       "    <tr>\n",
       "      <th>1</th>\n",
       "      <td>3-Jan-22</td>\n",
       "      <td>KUKZ</td>\n",
       "      <td>Kakuzi Plc</td>\n",
       "      <td>355.00</td>\n",
       "      <td>427.00</td>\n",
       "      <td>385.00</td>\n",
       "      <td>385.00</td>\n",
       "      <td>385</td>\n",
       "      <td>385.00</td>\n",
       "      <td>NaN</td>\n",
       "      <td>NaN</td>\n",
       "      <td>NaN</td>\n",
       "      <td>-</td>\n",
       "    </tr>\n",
       "    <tr>\n",
       "      <th>2</th>\n",
       "      <td>3-Jan-22</td>\n",
       "      <td>KAPC</td>\n",
       "      <td>Kapchorua Tea Kenya Plc</td>\n",
       "      <td>80.00</td>\n",
       "      <td>101.00</td>\n",
       "      <td>99.50</td>\n",
       "      <td>99.50</td>\n",
       "      <td>99.5</td>\n",
       "      <td>95.50</td>\n",
       "      <td>4.00</td>\n",
       "      <td>NaN</td>\n",
       "      <td>100</td>\n",
       "      <td>-</td>\n",
       "    </tr>\n",
       "    <tr>\n",
       "      <th>3</th>\n",
       "      <td>3-Jan-22</td>\n",
       "      <td>LIMT</td>\n",
       "      <td>Limuru Tea Plc</td>\n",
       "      <td>260.00</td>\n",
       "      <td>360.00</td>\n",
       "      <td>320.00</td>\n",
       "      <td>320.00</td>\n",
       "      <td>320</td>\n",
       "      <td>320.00</td>\n",
       "      <td>NaN</td>\n",
       "      <td>NaN</td>\n",
       "      <td>NaN</td>\n",
       "      <td>-</td>\n",
       "    </tr>\n",
       "    <tr>\n",
       "      <th>4</th>\n",
       "      <td>3-Jan-22</td>\n",
       "      <td>SASN</td>\n",
       "      <td>Sasini Plc</td>\n",
       "      <td>16.75</td>\n",
       "      <td>22.60</td>\n",
       "      <td>18.70</td>\n",
       "      <td>18.70</td>\n",
       "      <td>18.7</td>\n",
       "      <td>18.70</td>\n",
       "      <td>NaN</td>\n",
       "      <td>NaN</td>\n",
       "      <td>NaN</td>\n",
       "      <td>-</td>\n",
       "    </tr>\n",
       "    <tr>\n",
       "      <th>...</th>\n",
       "      <td>...</td>\n",
       "      <td>...</td>\n",
       "      <td>...</td>\n",
       "      <td>...</td>\n",
       "      <td>...</td>\n",
       "      <td>...</td>\n",
       "      <td>...</td>\n",
       "      <td>...</td>\n",
       "      <td>...</td>\n",
       "      <td>...</td>\n",
       "      <td>...</td>\n",
       "      <td>...</td>\n",
       "      <td>...</td>\n",
       "    </tr>\n",
       "    <tr>\n",
       "      <th>6727</th>\n",
       "      <td>31-May-22</td>\n",
       "      <td>MSC</td>\n",
       "      <td>Mumias Sugar Company Ltd</td>\n",
       "      <td>0.27</td>\n",
       "      <td>0.27</td>\n",
       "      <td>0.27</td>\n",
       "      <td>0.27</td>\n",
       "      <td>0.27</td>\n",
       "      <td>0.27</td>\n",
       "      <td>NaN</td>\n",
       "      <td>NaN</td>\n",
       "      <td>NaN</td>\n",
       "      <td>-</td>\n",
       "    </tr>\n",
       "    <tr>\n",
       "      <th>6728</th>\n",
       "      <td>31-May-22</td>\n",
       "      <td>UNGA</td>\n",
       "      <td>Unga Group Ltd</td>\n",
       "      <td>26.10</td>\n",
       "      <td>36.40</td>\n",
       "      <td>29.00</td>\n",
       "      <td>29.00</td>\n",
       "      <td>29</td>\n",
       "      <td>30.00</td>\n",
       "      <td>-1.00</td>\n",
       "      <td>NaN</td>\n",
       "      <td>2,100</td>\n",
       "      <td>-</td>\n",
       "    </tr>\n",
       "    <tr>\n",
       "      <th>6729</th>\n",
       "      <td>31-May-22</td>\n",
       "      <td>SCOM</td>\n",
       "      <td>Safaricom Plc</td>\n",
       "      <td>25.50</td>\n",
       "      <td>45.25</td>\n",
       "      <td>25.95</td>\n",
       "      <td>26.45</td>\n",
       "      <td>26</td>\n",
       "      <td>26.25</td>\n",
       "      <td>-0.25</td>\n",
       "      <td>NaN</td>\n",
       "      <td>20,079,900</td>\n",
       "      <td>-</td>\n",
       "    </tr>\n",
       "    <tr>\n",
       "      <th>6730</th>\n",
       "      <td>31-May-22</td>\n",
       "      <td>FAHR</td>\n",
       "      <td>Stanlib Fahari Income-REIT</td>\n",
       "      <td>5.00</td>\n",
       "      <td>7.48</td>\n",
       "      <td>5.50</td>\n",
       "      <td>5.60</td>\n",
       "      <td>5.56</td>\n",
       "      <td>5.58</td>\n",
       "      <td>-0.02</td>\n",
       "      <td>NaN</td>\n",
       "      <td>11,700</td>\n",
       "      <td>-</td>\n",
       "    </tr>\n",
       "    <tr>\n",
       "      <th>6731</th>\n",
       "      <td>31-May-22</td>\n",
       "      <td>GLD</td>\n",
       "      <td>ABSA NewGold ETF</td>\n",
       "      <td>1780.00</td>\n",
       "      <td>2135.00</td>\n",
       "      <td>2135.00</td>\n",
       "      <td>2135.00</td>\n",
       "      <td>2,135.00</td>\n",
       "      <td>2135.00</td>\n",
       "      <td>NaN</td>\n",
       "      <td>NaN</td>\n",
       "      <td>NaN</td>\n",
       "      <td>-</td>\n",
       "    </tr>\n",
       "  </tbody>\n",
       "</table>\n",
       "<p>6732 rows × 13 columns</p>\n",
       "</div>"
      ],
      "text/plain": [
       "           Date  Code                        Name  12m Low  12m High  Day Low  \\\n",
       "0      3-Jan-22  EGAD                 Eaagads Ltd    10.00     15.00    13.50   \n",
       "1      3-Jan-22  KUKZ                  Kakuzi Plc   355.00    427.00   385.00   \n",
       "2      3-Jan-22  KAPC     Kapchorua Tea Kenya Plc    80.00    101.00    99.50   \n",
       "3      3-Jan-22  LIMT              Limuru Tea Plc   260.00    360.00   320.00   \n",
       "4      3-Jan-22  SASN                  Sasini Plc    16.75     22.60    18.70   \n",
       "...         ...   ...                         ...      ...       ...      ...   \n",
       "6727  31-May-22   MSC    Mumias Sugar Company Ltd     0.27      0.27     0.27   \n",
       "6728  31-May-22  UNGA              Unga Group Ltd    26.10     36.40    29.00   \n",
       "6729  31-May-22  SCOM               Safaricom Plc    25.50     45.25    25.95   \n",
       "6730  31-May-22  FAHR  Stanlib Fahari Income-REIT     5.00      7.48     5.50   \n",
       "6731  31-May-22   GLD            ABSA NewGold ETF  1780.00   2135.00  2135.00   \n",
       "\n",
       "      Day High Day Price  Previous  Change  Change%      Volume Adjusted Price  \n",
       "0        13.80      13.5     13.50     NaN      NaN       4,000              -  \n",
       "1       385.00       385    385.00     NaN      NaN         NaN              -  \n",
       "2        99.50      99.5     95.50    4.00      NaN         100              -  \n",
       "3       320.00       320    320.00     NaN      NaN         NaN              -  \n",
       "4        18.70      18.7     18.70     NaN      NaN         NaN              -  \n",
       "...        ...       ...       ...     ...      ...         ...            ...  \n",
       "6727      0.27      0.27      0.27     NaN      NaN         NaN              -  \n",
       "6728     29.00        29     30.00   -1.00      NaN       2,100              -  \n",
       "6729     26.45        26     26.25   -0.25      NaN  20,079,900              -  \n",
       "6730      5.60      5.56      5.58   -0.02      NaN      11,700              -  \n",
       "6731   2135.00  2,135.00   2135.00     NaN      NaN         NaN              -  \n",
       "\n",
       "[6732 rows x 13 columns]"
      ]
     },
     "execution_count": 10,
     "metadata": {},
     "output_type": "execute_result"
    }
   ],
   "source": [
    "data = pd.read_csv(\"cleaned_stock_data.csv\")\n",
    "data"
   ]
  },
  {
   "cell_type": "code",
   "execution_count": 11,
   "metadata": {},
   "outputs": [],
   "source": [
    "#create a new column using the change ccolumn\n",
    "data['Price_Direction'] = np.where(data['Change'] > 0, 'Up', 'Down')"
   ]
  },
  {
   "cell_type": "code",
   "execution_count": 12,
   "metadata": {},
   "outputs": [],
   "source": [
    "#preprocessin on data column\n",
    "data['Volume'] = pd.to_numeric(data['Volume'].str.replace(',', '').replace('-', np.nan), errors='coerce')\n",
    "selected_features = ['Volume', 'Change']\n",
    "#drop columns with NaN to remain with relevant data\n",
    "data = data.dropna(subset=selected_features + ['Price_Direction'])"
   ]
  },
  {
   "cell_type": "code",
   "execution_count": 13,
   "metadata": {},
   "outputs": [],
   "source": [
    "#input features\n",
    "X = data[selected_features]\n",
    "#target variable\n",
    "y = data['Price_Direction']"
   ]
  },
  {
   "cell_type": "code",
   "execution_count": 14,
   "metadata": {},
   "outputs": [],
   "source": [
    "from sklearn.model_selection import train_test_split\n",
    "#data split\n",
    "\n",
    "X_train, X_test, y_train, y_test = train_test_split(X, y, test_size=0.2, random_state=42)"
   ]
  },
  {
   "cell_type": "code",
   "execution_count": 15,
   "metadata": {},
   "outputs": [
    {
     "data": {
      "text/html": [
       "<style>#sk-container-id-1 {color: black;}#sk-container-id-1 pre{padding: 0;}#sk-container-id-1 div.sk-toggleable {background-color: white;}#sk-container-id-1 label.sk-toggleable__label {cursor: pointer;display: block;width: 100%;margin-bottom: 0;padding: 0.3em;box-sizing: border-box;text-align: center;}#sk-container-id-1 label.sk-toggleable__label-arrow:before {content: \"▸\";float: left;margin-right: 0.25em;color: #696969;}#sk-container-id-1 label.sk-toggleable__label-arrow:hover:before {color: black;}#sk-container-id-1 div.sk-estimator:hover label.sk-toggleable__label-arrow:before {color: black;}#sk-container-id-1 div.sk-toggleable__content {max-height: 0;max-width: 0;overflow: hidden;text-align: left;background-color: #f0f8ff;}#sk-container-id-1 div.sk-toggleable__content pre {margin: 0.2em;color: black;border-radius: 0.25em;background-color: #f0f8ff;}#sk-container-id-1 input.sk-toggleable__control:checked~div.sk-toggleable__content {max-height: 200px;max-width: 100%;overflow: auto;}#sk-container-id-1 input.sk-toggleable__control:checked~label.sk-toggleable__label-arrow:before {content: \"▾\";}#sk-container-id-1 div.sk-estimator input.sk-toggleable__control:checked~label.sk-toggleable__label {background-color: #d4ebff;}#sk-container-id-1 div.sk-label input.sk-toggleable__control:checked~label.sk-toggleable__label {background-color: #d4ebff;}#sk-container-id-1 input.sk-hidden--visually {border: 0;clip: rect(1px 1px 1px 1px);clip: rect(1px, 1px, 1px, 1px);height: 1px;margin: -1px;overflow: hidden;padding: 0;position: absolute;width: 1px;}#sk-container-id-1 div.sk-estimator {font-family: monospace;background-color: #f0f8ff;border: 1px dotted black;border-radius: 0.25em;box-sizing: border-box;margin-bottom: 0.5em;}#sk-container-id-1 div.sk-estimator:hover {background-color: #d4ebff;}#sk-container-id-1 div.sk-parallel-item::after {content: \"\";width: 100%;border-bottom: 1px solid gray;flex-grow: 1;}#sk-container-id-1 div.sk-label:hover label.sk-toggleable__label {background-color: #d4ebff;}#sk-container-id-1 div.sk-serial::before {content: \"\";position: absolute;border-left: 1px solid gray;box-sizing: border-box;top: 0;bottom: 0;left: 50%;z-index: 0;}#sk-container-id-1 div.sk-serial {display: flex;flex-direction: column;align-items: center;background-color: white;padding-right: 0.2em;padding-left: 0.2em;position: relative;}#sk-container-id-1 div.sk-item {position: relative;z-index: 1;}#sk-container-id-1 div.sk-parallel {display: flex;align-items: stretch;justify-content: center;background-color: white;position: relative;}#sk-container-id-1 div.sk-item::before, #sk-container-id-1 div.sk-parallel-item::before {content: \"\";position: absolute;border-left: 1px solid gray;box-sizing: border-box;top: 0;bottom: 0;left: 50%;z-index: -1;}#sk-container-id-1 div.sk-parallel-item {display: flex;flex-direction: column;z-index: 1;position: relative;background-color: white;}#sk-container-id-1 div.sk-parallel-item:first-child::after {align-self: flex-end;width: 50%;}#sk-container-id-1 div.sk-parallel-item:last-child::after {align-self: flex-start;width: 50%;}#sk-container-id-1 div.sk-parallel-item:only-child::after {width: 0;}#sk-container-id-1 div.sk-dashed-wrapped {border: 1px dashed gray;margin: 0 0.4em 0.5em 0.4em;box-sizing: border-box;padding-bottom: 0.4em;background-color: white;}#sk-container-id-1 div.sk-label label {font-family: monospace;font-weight: bold;display: inline-block;line-height: 1.2em;}#sk-container-id-1 div.sk-label-container {text-align: center;}#sk-container-id-1 div.sk-container {/* jupyter's `normalize.less` sets `[hidden] { display: none; }` but bootstrap.min.css set `[hidden] { display: none !important; }` so we also need the `!important` here to be able to override the default hidden behavior on the sphinx rendered scikit-learn.org. See: https://github.com/scikit-learn/scikit-learn/issues/21755 */display: inline-block !important;position: relative;}#sk-container-id-1 div.sk-text-repr-fallback {display: none;}</style><div id=\"sk-container-id-1\" class=\"sk-top-container\"><div class=\"sk-text-repr-fallback\"><pre>KNeighborsClassifier()</pre><b>In a Jupyter environment, please rerun this cell to show the HTML representation or trust the notebook. <br />On GitHub, the HTML representation is unable to render, please try loading this page with nbviewer.org.</b></div><div class=\"sk-container\" hidden><div class=\"sk-item\"><div class=\"sk-estimator sk-toggleable\"><input class=\"sk-toggleable__control sk-hidden--visually\" id=\"sk-estimator-id-1\" type=\"checkbox\" checked><label for=\"sk-estimator-id-1\" class=\"sk-toggleable__label sk-toggleable__label-arrow\">KNeighborsClassifier</label><div class=\"sk-toggleable__content\"><pre>KNeighborsClassifier()</pre></div></div></div></div></div>"
      ],
      "text/plain": [
       "KNeighborsClassifier()"
      ]
     },
     "execution_count": 15,
     "metadata": {},
     "output_type": "execute_result"
    }
   ],
   "source": [
    "from sklearn.preprocessing import StandardScaler\n",
    "from sklearn.neighbors import KNeighborsClassifier\n",
    "knn_classifier = KNeighborsClassifier(n_neighbors=5)\n",
    "knn_classifier.fit(X_train, y_train)\n",
    "#standardised features, instantiate knn,fit data to cl"
   ]
  },
  {
   "cell_type": "code",
   "execution_count": 16,
   "metadata": {},
   "outputs": [],
   "source": [
    "y_pred = knn_classifier.predict(X_test)\n"
   ]
  },
  {
   "cell_type": "code",
   "execution_count": 17,
   "metadata": {},
   "outputs": [
    {
     "name": "stdout",
     "output_type": "stream",
     "text": [
      "Accuracy: 0.69\n"
     ]
    }
   ],
   "source": [
    "from sklearn import metrics\n",
    "accuracy = metrics.accuracy_score(y_test, y_pred)\n",
    "print(f\"Accuracy: {accuracy:.2f}\")\n"
   ]
  },
  {
   "cell_type": "code",
   "execution_count": 18,
   "metadata": {},
   "outputs": [
    {
     "name": "stdout",
     "output_type": "stream",
     "text": [
      "Classification Report:\n",
      "              precision    recall  f1-score   support\n",
      "\n",
      "        Down       0.70      0.76      0.73       411\n",
      "          Up       0.68      0.60      0.64       341\n",
      "\n",
      "    accuracy                           0.69       752\n",
      "   macro avg       0.69      0.68      0.68       752\n",
      "weighted avg       0.69      0.69      0.69       752\n",
      "\n"
     ]
    }
   ],
   "source": [
    "classification_report = metrics.classification_report(y_test, y_pred)\n",
    "print(\"Classification Report:\")\n",
    "print(classification_report)"
   ]
  },
  {
   "cell_type": "code",
   "execution_count": 19,
   "metadata": {},
   "outputs": [
    {
     "name": "stdout",
     "output_type": "stream",
     "text": [
      "Precision: 0.68\n"
     ]
    }
   ],
   "source": [
    "precision = metrics.precision_score(y_test, y_pred, pos_label='Up')\n",
    "print(f'Precision: {precision:.2f}')"
   ]
  },
  {
   "cell_type": "code",
   "execution_count": 20,
   "metadata": {},
   "outputs": [
    {
     "name": "stdout",
     "output_type": "stream",
     "text": [
      "Recall: 0.60\n"
     ]
    }
   ],
   "source": [
    "recall = metrics.recall_score(y_test, y_pred, pos_label='Up')\n",
    "print(f'Recall: {recall:.2f}')\n"
   ]
  },
  {
   "cell_type": "code",
   "execution_count": 21,
   "metadata": {},
   "outputs": [
    {
     "name": "stdout",
     "output_type": "stream",
     "text": [
      "F1 Score: 0.64\n"
     ]
    }
   ],
   "source": [
    "f1 = metrics.f1_score(y_test, y_pred, pos_label='Up')\n",
    "print(f'F1 Score: {f1:.2f}')\n"
   ]
  },
  {
   "cell_type": "code",
   "execution_count": 22,
   "metadata": {},
   "outputs": [
    {
     "data": {
      "image/png": "[encoded data removed]",
      "text/plain": [
       "<Figure size 400x400 with 2 Axes>"
      ]
     },
     "metadata": {},
     "output_type": "display_data"
    }
   ],
   "source": [
    "import seaborn as sns\n",
    "\n",
    "conf_matrix = metrics.confusion_matrix(y_test, y_pred)\n",
    "\n",
    "plt.figure(figsize=(4, 4))\n",
    "sns.heatmap(conf_matrix, annot=True, fmt='d', cmap='Blues', xticklabels=['Down', 'Up'], yticklabels=['Down', 'Up'])\n",
    "plt.title('Confusion Matrix')\n",
    "plt.xlabel('Predicted')\n",
    "plt.ylabel('Actual')\n",
    "plt.show()"
   ]
  },
  {
   "cell_type": "code",
   "execution_count": 23,
   "metadata": {},
   "outputs": [
    {
     "data": {
      "image/png": "[encoded data removed]",
      "text/plain": [
       "<Figure size 400x300 with 1 Axes>"
      ]
     },
     "metadata": {},
     "output_type": "display_data"
    }
   ],
   "source": [
    "from sklearn.metrics import roc_curve, auc\n",
    "\n",
    "\n",
    "y_score_knn = knn_classifier.predict_proba(X_test)[:, 1]\n",
    "y_test_binary_knn = (y_test == 'Up').astype(int)\n",
    "fpr_knn, tpr_knn, _ = roc_curve(y_test_binary_knn, y_score_knn)\n",
    "roc_auc_knn = auc(fpr_knn, tpr_knn)\n",
    "\n",
    "plt.figure(figsize=(4, 3))\n",
    "plt.plot(fpr_knn, tpr_knn, color='darkorange', lw=2, label='ROC curve (area = {:.2f})'.format(roc_auc_knn))\n",
    "plt.plot([0, 1], [0, 1], color='navy', lw=2, linestyle='--')\n",
    "plt.xlabel('False Positive Rate')\n",
    "plt.ylabel('True Positive Rate')\n",
    "plt.title('Receiver Operating Characteristic Curve ')\n",
    "plt.legend(loc='lower right')\n",
    "plt.show()\n"
   ]
  },
  {
   "cell_type": "code",
   "execution_count": 24,
   "metadata": {},
   "outputs": [
    {
     "name": "stdout",
     "output_type": "stream",
     "text": [
      "Loss: 0.31\n"
     ]
    }
   ],
   "source": [
    "\n",
    "loss = 1 - accuracy\n",
    "print(f\"Loss: {loss:.2f}\")"
   ]
  },
  {
   "cell_type": "code",
   "execution_count": 25,
   "metadata": {},
   "outputs": [
    {
     "name": "stdout",
     "output_type": "stream",
     "text": [
      "Root Mean Squared Error: 0.56\n"
     ]
    }
   ],
   "source": [
    "y_train_numeric = y_train.map({'Up': 1, 'Down': 0})\n",
    "y_test_numeric = y_test.map({'Up': 1, 'Down': 0})\n",
    "knn_classifier.fit(X_train, y_train_numeric)\n",
    "y_pred_numeric = knn_classifier.predict(X_test)\n",
    "\n",
    "from sklearn.metrics import mean_squared_error\n",
    "from math import sqrt\n",
    "\n",
    "rmse = sqrt(mean_squared_error(y_test_numeric, y_pred_numeric))\n",
    "print(f\"Root Mean Squared Error: {rmse:.2f}\")"
   ]
  },
  {
   "cell_type": "code",
   "execution_count": 26,
   "metadata": {},
   "outputs": [
    {
     "name": "stdout",
     "output_type": "stream",
     "text": [
      "Cross validation for knn: 0.70\n"
     ]
    }
   ],
   "source": [
    "from sklearn.model_selection import cross_val_score\n",
    "from sklearn.model_selection import StratifiedKFold\n",
    "\n",
    "cv = StratifiedKFold(n_splits=5, shuffle=True, random_state=42)\n",
    "cross_val_scores = cross_val_score(knn_classifier, X, y, cv=cv, scoring='accuracy')\n",
    "mean_cv_accuracy = cross_val_scores.mean()\n",
    "\n",
    "print(f'Cross validation for knn: {mean_cv_accuracy:.2f}')"
   ]
  },
  {
   "cell_type": "code",
   "execution_count": 27,
   "metadata": {},
   "outputs": [],
   "source": [
    "from sklearn.linear_model import LinearRegression\n",
    "from sklearn.metrics import mean_squared_error\n"
   ]
  },
  {
   "cell_type": "code",
   "execution_count": 28,
   "metadata": {},
   "outputs": [
    {
     "name": "stderr",
     "output_type": "stream",
     "text": [
      "/tmp/ipykernel_103120/212172808.py:1: SettingWithCopyWarning: \n",
      "A value is trying to be set on a copy of a slice from a DataFrame.\n",
      "Try using .loc[row_indexer,col_indexer] = value instead\n",
      "\n",
      "See the caveats in the documentation: https://pandas.pydata.org/pandas-docs/stable/user_guide/indexing.html#returning-a-view-versus-a-copy\n",
      "  data['Adjusted Price'] = pd.to_numeric(data['Adjusted Price'], errors='coerce')\n"
     ]
    }
   ],
   "source": [
    "data['Adjusted Price'] = pd.to_numeric(data['Adjusted Price'], errors='coerce')\n"
   ]
  },
  {
   "cell_type": "code",
   "execution_count": 29,
   "metadata": {},
   "outputs": [
    {
     "name": "stderr",
     "output_type": "stream",
     "text": [
      "/tmp/ipykernel_103120/3611546252.py:1: SettingWithCopyWarning: \n",
      "A value is trying to be set on a copy of a slice from a DataFrame\n",
      "\n",
      "See the caveats in the documentation: https://pandas.pydata.org/pandas-docs/stable/user_guide/indexing.html#returning-a-view-versus-a-copy\n",
      "  data.dropna(subset=['Adjusted Price'], inplace=True)\n"
     ]
    }
   ],
   "source": [
    "data.dropna(subset=['Adjusted Price'], inplace=True)\n"
   ]
  },
  {
   "cell_type": "code",
   "execution_count": 30,
   "metadata": {},
   "outputs": [],
   "source": [
    "X_regression = data[['Volume', 'Change']]\n",
    "y_regression = data['Adjusted Price']"
   ]
  },
  {
   "cell_type": "code",
   "execution_count": 31,
   "metadata": {},
   "outputs": [],
   "source": [
    "from sklearn.model_selection import train_test_split\n",
    "\n",
    "X_train_regression, X_test_regression, y_train_regression, y_test_regression = train_test_split(\n",
    "    X_regression, y_regression, test_size=0.2, random_state=42\n",
    ")"
   ]
  },
  {
   "cell_type": "code",
   "execution_count": 32,
   "metadata": {},
   "outputs": [
    {
     "data": {
      "text/html": [
       "<style>#sk-container-id-2 {color: black;}#sk-container-id-2 pre{padding: 0;}#sk-container-id-2 div.sk-toggleable {background-color: white;}#sk-container-id-2 label.sk-toggleable__label {cursor: pointer;display: block;width: 100%;margin-bottom: 0;padding: 0.3em;box-sizing: border-box;text-align: center;}#sk-container-id-2 label.sk-toggleable__label-arrow:before {content: \"▸\";float: left;margin-right: 0.25em;color: #696969;}#sk-container-id-2 label.sk-toggleable__label-arrow:hover:before {color: black;}#sk-container-id-2 div.sk-estimator:hover label.sk-toggleable__label-arrow:before {color: black;}#sk-container-id-2 div.sk-toggleable__content {max-height: 0;max-width: 0;overflow: hidden;text-align: left;background-color: #f0f8ff;}#sk-container-id-2 div.sk-toggleable__content pre {margin: 0.2em;color: black;border-radius: 0.25em;background-color: #f0f8ff;}#sk-container-id-2 input.sk-toggleable__control:checked~div.sk-toggleable__content {max-height: 200px;max-width: 100%;overflow: auto;}#sk-container-id-2 input.sk-toggleable__control:checked~label.sk-toggleable__label-arrow:before {content: \"▾\";}#sk-container-id-2 div.sk-estimator input.sk-toggleable__control:checked~label.sk-toggleable__label {background-color: #d4ebff;}#sk-container-id-2 div.sk-label input.sk-toggleable__control:checked~label.sk-toggleable__label {background-color: #d4ebff;}#sk-container-id-2 input.sk-hidden--visually {border: 0;clip: rect(1px 1px 1px 1px);clip: rect(1px, 1px, 1px, 1px);height: 1px;margin: -1px;overflow: hidden;padding: 0;position: absolute;width: 1px;}#sk-container-id-2 div.sk-estimator {font-family: monospace;background-color: #f0f8ff;border: 1px dotted black;border-radius: 0.25em;box-sizing: border-box;margin-bottom: 0.5em;}#sk-container-id-2 div.sk-estimator:hover {background-color: #d4ebff;}#sk-container-id-2 div.sk-parallel-item::after {content: \"\";width: 100%;border-bottom: 1px solid gray;flex-grow: 1;}#sk-container-id-2 div.sk-label:hover label.sk-toggleable__label {background-color: #d4ebff;}#sk-container-id-2 div.sk-serial::before {content: \"\";position: absolute;border-left: 1px solid gray;box-sizing: border-box;top: 0;bottom: 0;left: 50%;z-index: 0;}#sk-container-id-2 div.sk-serial {display: flex;flex-direction: column;align-items: center;background-color: white;padding-right: 0.2em;padding-left: 0.2em;position: relative;}#sk-container-id-2 div.sk-item {position: relative;z-index: 1;}#sk-container-id-2 div.sk-parallel {display: flex;align-items: stretch;justify-content: center;background-color: white;position: relative;}#sk-container-id-2 div.sk-item::before, #sk-container-id-2 div.sk-parallel-item::before {content: \"\";position: absolute;border-left: 1px solid gray;box-sizing: border-box;top: 0;bottom: 0;left: 50%;z-index: -1;}#sk-container-id-2 div.sk-parallel-item {display: flex;flex-direction: column;z-index: 1;position: relative;background-color: white;}#sk-container-id-2 div.sk-parallel-item:first-child::after {align-self: flex-end;width: 50%;}#sk-container-id-2 div.sk-parallel-item:last-child::after {align-self: flex-start;width: 50%;}#sk-container-id-2 div.sk-parallel-item:only-child::after {width: 0;}#sk-container-id-2 div.sk-dashed-wrapped {border: 1px dashed gray;margin: 0 0.4em 0.5em 0.4em;box-sizing: border-box;padding-bottom: 0.4em;background-color: white;}#sk-container-id-2 div.sk-label label {font-family: monospace;font-weight: bold;display: inline-block;line-height: 1.2em;}#sk-container-id-2 div.sk-label-container {text-align: center;}#sk-container-id-2 div.sk-container {/* jupyter's `normalize.less` sets `[hidden] { display: none; }` but bootstrap.min.css set `[hidden] { display: none !important; }` so we also need the `!important` here to be able to override the default hidden behavior on the sphinx rendered scikit-learn.org. See: https://github.com/scikit-learn/scikit-learn/issues/21755 */display: inline-block !important;position: relative;}#sk-container-id-2 div.sk-text-repr-fallback {display: none;}</style><div id=\"sk-container-id-2\" class=\"sk-top-container\"><div class=\"sk-text-repr-fallback\"><pre>LinearRegression()</pre><b>In a Jupyter environment, please rerun this cell to show the HTML representation or trust the notebook. <br />On GitHub, the HTML representation is unable to render, please try loading this page with nbviewer.org.</b></div><div class=\"sk-container\" hidden><div class=\"sk-item\"><div class=\"sk-estimator sk-toggleable\"><input class=\"sk-toggleable__control sk-hidden--visually\" id=\"sk-estimator-id-2\" type=\"checkbox\" checked><label for=\"sk-estimator-id-2\" class=\"sk-toggleable__label sk-toggleable__label-arrow\">LinearRegression</label><div class=\"sk-toggleable__content\"><pre>LinearRegression()</pre></div></div></div></div></div>"
      ],
      "text/plain": [
       "LinearRegression()"
      ]
     },
     "execution_count": 32,
     "metadata": {},
     "output_type": "execute_result"
    }
   ],
   "source": [
    "regression_model = LinearRegression()\n",
    "regression_model.fit(X_train_regression, y_train_regression)\n"
   ]
  },
  {
   "cell_type": "code",
   "execution_count": 33,
   "metadata": {},
   "outputs": [],
   "source": [
    "y_pred_regression = regression_model.predict(X_test_regression)\n"
   ]
  },
  {
   "cell_type": "code",
   "execution_count": 34,
   "metadata": {},
   "outputs": [
    {
     "name": "stdout",
     "output_type": "stream",
     "text": [
      "Mean Squared Error: 25.58367336473285\n"
     ]
    }
   ],
   "source": [
    "mse = mean_squared_error(y_test_regression, y_pred_regression)\n",
    "print(f'Mean Squared Error: {mse}')\n"
   ]
  },
  {
   "cell_type": "code",
   "execution_count": 35,
   "metadata": {},
   "outputs": [
    {
     "name": "stdout",
     "output_type": "stream",
     "text": [
      "Root Mean Squared Error (RMSE): 5.058030581632821\n"
     ]
    }
   ],
   "source": [
    "rmse = np.sqrt(mse)\n",
    "print(\"Root Mean Squared Error (RMSE):\", rmse)\n"
   ]
  },
  {
   "cell_type": "code",
   "execution_count": 36,
   "metadata": {},
   "outputs": [
    {
     "name": "stdout",
     "output_type": "stream",
     "text": [
      "Mean Cross-Validation MSE: 23.00\n"
     ]
    }
   ],
   "source": [
    "from sklearn.model_selection import cross_val_score\n",
    "from sklearn.model_selection import KFold\n",
    "\n",
    "cv = KFold(n_splits=5, shuffle=True, random_state=42)\n",
    "cross_val_scores_regression = cross_val_score(regression_model, X_regression, y_regression, cv=cv, scoring='neg_mean_squared_error')\n",
    "mean_cv_mse = -cross_val_scores_regression.mean()\n",
    "\n",
    "print(f'Mean Cross-Validation MSE: {mean_cv_mse:.2f}')"
   ]
  },
  {
   "cell_type": "code",
   "execution_count": 37,
   "metadata": {},
   "outputs": [
    {
     "data": {
      "image/png": "[encoded data removed]",
      "text/plain": [
       "<Figure size 400x300 with 1 Axes>"
      ]
     },
     "metadata": {},
     "output_type": "display_data"
    }
   ],
   "source": [
    "plt.figure(figsize=(4, 3))\n",
    "plt.scatter(y_test_regression, y_pred_regression, alpha=0.5)\n",
    "plt.title('Regression Model')\n",
    "plt.xlabel('True Values')\n",
    "plt.ylabel('Predictions')\n",
    "plt.show()"
   ]
  },
  {
   "cell_type": "code",
   "execution_count": 38,
   "metadata": {},
   "outputs": [
    {
     "data": {
      "image/png": "[encoded data removed]",
      "text/plain": [
       "<Figure size 1000x600 with 1 Axes>"
      ]
     },
     "metadata": {},
     "output_type": "display_data"
    }
   ],
   "source": [
    "mse_values = [rmse , mse]\n",
    "\n",
    "models = ['KNN ', 'Linear Regression ']\n",
    "\n",
    "plt.figure(figsize=(10, 6))\n",
    "plt.bar(models, mse_values, color=['blue', 'orange'])\n",
    "plt.title('MSE Comparison')\n",
    "plt.ylabel('MSE')\n",
    "plt.show()"
   ]
  }
 ],
 "metadata": {
  "kernelspec": {
   "display_name": "env",
   "language": "python",
   "name": "python3"
  },
  "language_info": {
   "codemirror_mode": {
    "name": "ipython",
    "version": 3
   },
   "file_extension": ".py",
   "mimetype": "text/x-python",
   "name": "python",
   "nbconvert_exporter": "python",
   "pygments_lexer": "ipython3",
   "version": "3.11.4"
  },
  "orig_nbformat": 4
 },
 "nbformat": 4,
 "nbformat_minor": 2
}
