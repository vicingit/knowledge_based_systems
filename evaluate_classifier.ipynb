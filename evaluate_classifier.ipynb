{
 "cells": [
  {
   "cell_type": "code",
   "execution_count": 2,
   "metadata": {},
   "outputs": [],
   "source": [
    "# setup\n",
    "from mlwp import *\n",
    "%matplotlib inline\n",
    "\n",
    "iris = datasets.load_iris()\n",
    "\n",
    "tts = skms.train_test_split(iris.data, iris.target,\n",
    "        test_size=.33, random_state=21)\n",
    "\n",
    "(iris_train_ftrs, iris_test_ftrs,\n",
    "iris_train_tgt,iris_test_tgt) = tts"
   ]
  },
  {
   "cell_type": "code",
   "execution_count": 4,
   "metadata": {},
   "outputs": [
    {
     "name": "stdout",
     "output_type": "stream",
     "text": [
      "0.3\n"
     ]
    }
   ],
   "source": [
    "# normal usage:build-fit-predict-evaluate\n",
    "baseline = dummy.DummyClassifier(strategy=\"most_frequent\")\n",
    "baseline.fit(iris_train_ftrs, iris_train_tgt)\n",
    "base_preds = baseline.predict(iris_test_ftrs)\n",
    "base_acc = metrics.accuracy_score(base_preds, iris_test_tgt)\n",
    "print(base_acc)"
   ]
  },
  {
   "cell_type": "code",
   "execution_count": 5,
   "metadata": {},
   "outputs": [
    {
     "data": {
      "text/html": [
       "<div>\n",
       "<style scoped>\n",
       "    .dataframe tbody tr th:only-of-type {\n",
       "        vertical-align: middle;\n",
       "    }\n",
       "\n",
       "    .dataframe tbody tr th {\n",
       "        vertical-align: top;\n",
       "    }\n",
       "\n",
       "    .dataframe thead th {\n",
       "        text-align: right;\n",
       "    }\n",
       "</style>\n",
       "<table border=\"1\" class=\"dataframe\">\n",
       "  <thead>\n",
       "    <tr style=\"text-align: right;\">\n",
       "      <th></th>\n",
       "      <th>accuracy</th>\n",
       "    </tr>\n",
       "  </thead>\n",
       "  <tbody>\n",
       "    <tr>\n",
       "      <th>constant</th>\n",
       "      <td>0.3600</td>\n",
       "    </tr>\n",
       "    <tr>\n",
       "      <th>uniform</th>\n",
       "      <td>0.3800</td>\n",
       "    </tr>\n",
       "    <tr>\n",
       "      <th>stratified</th>\n",
       "      <td>0.3400</td>\n",
       "    </tr>\n",
       "    <tr>\n",
       "      <th>prior</th>\n",
       "      <td>0.3000</td>\n",
       "    </tr>\n",
       "    <tr>\n",
       "      <th>most_frequent</th>\n",
       "      <td>0.3000</td>\n",
       "    </tr>\n",
       "  </tbody>\n",
       "</table>\n",
       "</div>"
      ],
      "text/latex": [
       "{\\centering\n",
       "\\begin{tabular}{lr}\n",
       "\\toprule\n",
       "{} &             accuracy \\\\\n",
       "\\midrule\n",
       "constant      &               0.3600 \\\\\n",
       "uniform       &               0.3800 \\\\\n",
       "stratified    &               0.3400 \\\\\n",
       "prior         &               0.3000 \\\\\n",
       "most\\_frequent &               0.3000 \\\\\n",
       "\\bottomrule\n",
       "\\end{tabular}\n",
       "\n",
       "\\medskip}"
      ],
      "text/plain": [
       "                          accuracy\n",
       "constant                    0.3600\n",
       "uniform                     0.3800\n",
       "stratified                  0.3400\n",
       "prior                       0.3000\n",
       "most_frequent               0.3000"
      ]
     },
     "metadata": {},
     "output_type": "display_data"
    }
   ],
   "source": [
    "strategies = ['constant', 'uniform', 'stratified',\n",
    "                'prior', 'most_frequent']\n",
    "\n",
    "# set up args to create different DummyClassifier strategies\n",
    "baseline_args = [{'strategy':s} for s in strategies]\n",
    "baseline_args[0]['constant'] = 0 # class 0 is setosa\n",
    "accuracies = []\n",
    "for bla in baseline_args:\n",
    "    baseline = dummy.DummyClassifier(**bla)\n",
    "    baseline.fit(iris_train_ftrs, iris_train_tgt)\n",
    "    base_preds = baseline.predict(iris_test_ftrs)\n",
    "    accuracies.append(metrics.accuracy_score(base_preds, iris_test_tgt))\n",
    "\n",
    "display(pd.DataFrame({'accuracy':accuracies}, index=strategies))"
   ]
  },
  {
   "cell_type": "code",
   "execution_count": 7,
   "metadata": {},
   "outputs": [
    {
     "name": "stdout",
     "output_type": "stream",
     "text": [
      "\n",
      "\n",
      "---and---\n",
      "\n",
      "\n",
      "        Returns\n",
      "        -------\n",
      "        score : float\n",
      "            Mean accuracy of ``self.predict(X)`` w.r.t. `y`.\n",
      "        \n"
     ]
    }
   ],
   "source": [
    "knn = neighbors.KNeighborsClassifier()\n",
    "# help(knn.score) # verbose, but complete\n",
    "print(knn.score.__doc__.splitlines()[0])\n",
    "print('\\n---and---\\n')\n",
    "print(\"\\n\".join(knn.score.__doc__.splitlines()[-6:]))"
   ]
  },
  {
   "cell_type": "code",
   "execution_count": 9,
   "metadata": {},
   "outputs": [
    {
     "name": "stdout",
     "output_type": "stream",
     "text": [
      "accuracy: 0.94\n",
      "confusion matrix:\n",
      "[[18  0  0]\n",
      " [ 0 16  1]\n",
      " [ 0  2 13]]\n"
     ]
    }
   ],
   "source": [
    "tgt_preds = (neighbors.KNeighborsClassifier()\n",
    "            .fit(iris_train_ftrs, iris_train_tgt)\n",
    "            .predict(iris_test_ftrs))\n",
    "print(\"accuracy:\", metrics.accuracy_score(iris_test_tgt,\n",
    "                        tgt_preds))\n",
    "cm = metrics.confusion_matrix(iris_test_tgt,\n",
    "                                    tgt_preds)\n",
    "print(\"confusion matrix:\", cm, sep=\"\\n\")"
   ]
  },
  {
   "cell_type": "code",
   "execution_count": 10,
   "metadata": {},
   "outputs": [
    {
     "data": {
      "image/png": "[encoded data removed]",
      "text/plain": [
       "<Figure size 400x400 with 2 Axes>"
      ]
     },
     "metadata": {},
     "output_type": "display_data"
    }
   ],
   "source": [
    "fig, ax = plt.subplots(1, 1, figsize=(4, 4))\n",
    "cm = metrics.confusion_matrix(iris_test_tgt, tgt_preds)\n",
    "ax = sns.heatmap(cm, annot=True, square=True,\n",
    "                xticklabels=iris.target_names,\n",
    "                yticklabels=iris.target_names)\n",
    "ax.set_xlabel('Predicted')\n",
    "ax.set_ylabel('Actual');"
   ]
  },
  {
   "cell_type": "code",
   "execution_count": 11,
   "metadata": {},
   "outputs": [
    {
     "name": "stdout",
     "output_type": "stream",
     "text": [
      "macro: 0.9391534391534391\n",
      "should equal 'macro avg': 0.9391534391534391\n"
     ]
    }
   ],
   "source": [
    "macro_prec = metrics.precision_score(iris_test_tgt,\n",
    "                            tgt_preds,\n",
    "                            average='macro')\n",
    "\n",
    "print(\"macro:\", macro_prec)\n",
    "\n",
    "cm = metrics.confusion_matrix(iris_test_tgt, tgt_preds)\n",
    "n_labels = len(iris.target_names)\n",
    "print(\"should equal 'macro avg':\",\n",
    "      \n",
    "        # correct       column          # columns\n",
    "        (np.diag(cm) / cm.sum(axis=0)).sum() / n_labels)"
   ]
  },
  {
   "cell_type": "code",
   "execution_count": 12,
   "metadata": {},
   "outputs": [
    {
     "name": "stdout",
     "output_type": "stream",
     "text": [
      "micro: 0.94\n",
      "should equal avg='micro': 0.94\n"
     ]
    }
   ],
   "source": [
    "print(\"micro:\", metrics.precision_score(iris_test_tgt,\n",
    "                                    tgt_preds,\n",
    "                                    average='micro'))\n",
    "\n",
    "cm = metrics.confusion_matrix(iris_test_tgt, tgt_preds)\n",
    "print(\"should equal avg='micro':\",\n",
    "    # TP.sum()/ (TP&FP).sum() -->\n",
    "    # all correct/ all preds\n",
    "    np.diag(cm).sum() / cm.sum())"
   ]
  },
  {
   "cell_type": "code",
   "execution_count": 13,
   "metadata": {},
   "outputs": [
    {
     "name": "stdout",
     "output_type": "stream",
     "text": [
      "              precision    recall  f1-score   support\n",
      "\n",
      "           0       1.00      1.00      1.00        18\n",
      "           1       0.89      0.94      0.91        17\n",
      "           2       0.93      0.87      0.90        15\n",
      "\n",
      "    accuracy                           0.94        50\n",
      "   macro avg       0.94      0.94      0.94        50\n",
      "weighted avg       0.94      0.94      0.94        50\n",
      "\n",
      "row counts equal support: [18 17 15]\n"
     ]
    }
   ],
   "source": [
    "print(metrics.classification_report(iris_test_tgt,\n",
    "                                        tgt_preds)) \n",
    "# average is a weighted macro average (see text)\n",
    "# verify sums-across-rows\n",
    "cm = metrics.confusion_matrix(iris_test_tgt, tgt_preds)\n",
    "print(\"row counts equal support:\", cm.sum(axis=1))"
   ]
  },
  {
   "cell_type": "code",
   "execution_count": 16,
   "metadata": {},
   "outputs": [],
   "source": [
    "#warning: this is 1 \"one\" not l \"ell\"\n",
    "\n",
    "is_versicolor = iris.target == 1\n",
    "\n",
    "tts_1c = skms.train_test_split(iris.data, is_versicolor,\n",
    "                        test_size=.33, random_state = 21)\n",
    "\n",
    "(iris_1c_train_ftrs, iris_1c_test_ftrs,\n",
    "    iris_1c_train_tgt,iris_1c_test_tgt) = tts_1c\n",
    "\n",
    "# build, fit, predict (probability scores) for NB model\n",
    "gnb = naive_bayes.GaussianNB()\n",
    "prob_true = (gnb.fit(iris_1c_train_ftrs, iris_1c_train_tgt)\n",
    "                .predict_proba(iris_1c_test_ftrs)[:, 1]) # [:, 1]==\"True\""
   ]
  },
  {
   "cell_type": "code",
   "execution_count": 17,
   "metadata": {},
   "outputs": [
    {
     "name": "stdout",
     "output_type": "stream",
     "text": [
      "FPR : [0.     0.     0.     0.0606 0.0606 0.1212 0.1212 0.1818 1.    ]\n",
      "TPR : [0.     0.0588 0.8824 0.8824 0.9412 0.9412 1.     1.     1.    ]\n"
     ]
    },
    {
     "data": {
      "image/png": "[encoded data removed]",
      "text/plain": [
       "<Figure size 800x400 with 1 Axes>"
      ]
     },
     "metadata": {},
     "output_type": "display_data"
    }
   ],
   "source": [
    "fpr, tpr, thresh = metrics.roc_curve(iris_1c_test_tgt,\n",
    "                                        prob_true)\n",
    "auc = metrics.auc(fpr, tpr)\n",
    "\n",
    "print(\"FPR : {}\".format(fpr),\n",
    "        \"TPR : {}\".format(tpr), sep='\\n')\n",
    "# create the main graph\n",
    "fig, ax = plt.subplots(figsize=(8, 4))\n",
    "ax.plot(fpr, tpr, 'o--')\n",
    "ax.set_title(\"1-Class Iris ROC Curve\\nAUC:{:.3f}\".format(auc))\n",
    "ax.set_xlabel(\"FPR\")\n",
    "ax.set_ylabel(\"TPR\");\n",
    "\n",
    "# do a bit of work to label some points with their\n",
    "# respective thresholds\n",
    "investigate = np.array([1, 3, 5])\n",
    "for idx in investigate:\n",
    "    th, f, t = thresh[idx], fpr[idx], tpr[idx]\n",
    "    ax.annotate('thresh = {:.3f}'.format(th),\n",
    "        xy=(f+.01, t-.01), xytext=(f+.1, t),\n",
    "        arrowprops = {'arrowstyle':'->'})"
   ]
  }
 ],
 "metadata": {
  "kernelspec": {
   "display_name": "env",
   "language": "python",
   "name": "python3"
  },
  "language_info": {
   "codemirror_mode": {
    "name": "ipython",
    "version": 3
   },
   "file_extension": ".py",
   "mimetype": "text/x-python",
   "name": "python",
   "nbconvert_exporter": "python",
   "pygments_lexer": "ipython3",
   "version": "3.11.4"
  },
  "orig_nbformat": 4
 },
 "nbformat": 4,
 "nbformat_minor": 2
}
